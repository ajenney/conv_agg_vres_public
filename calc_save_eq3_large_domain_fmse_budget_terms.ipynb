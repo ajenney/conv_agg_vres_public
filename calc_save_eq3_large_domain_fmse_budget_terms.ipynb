{
 "cells": [
  {
   "cell_type": "markdown",
   "id": "0529c3c0",
   "metadata": {
    "heading_collapsed": true
   },
   "source": [
    "## Import Necessary Packages"
   ]
  },
  {
   "cell_type": "code",
   "execution_count": 1,
   "id": "bf7b123b",
   "metadata": {
    "hidden": true
   },
   "outputs": [],
   "source": [
    "import glob\n",
    "import pickle\n",
    "import numpy as np\n",
    "import xarray as xr\n",
    "import proplot as pplt\n",
    "%config InlineBackend.figure_format = 'retina'\n",
    "pplt.rc.update({'font.size':12})\n",
    "import warnings\n",
    "warnings.filterwarnings('ignore')"
   ]
  },
  {
   "cell_type": "markdown",
   "id": "86218c14",
   "metadata": {
    "heading_collapsed": true
   },
   "source": [
    "## Import Data"
   ]
  },
  {
   "cell_type": "markdown",
   "id": "46aa4883",
   "metadata": {
    "hidden": true
   },
   "source": [
    "We load in the variables necessary to calculate the terms within the $\\langle h_f \\rangle'^2$ budget equation (Eq. 3). Where ```lwns``` and ```lwnt``` are net longwave at the surface and top of atmopshere, respectively, ```swns``` and ```swnt``` are net shortwave at the surface and top of atmopshere, respectively, ```lhf``` is latent heat flux, ```shf``` is sensible heat flux, and ```hf``` is the column integral of frozen moist static energy ($\\langle h_f \\rangle$)."
   ]
  },
  {
   "cell_type": "code",
   "execution_count": 2,
   "id": "95328fac",
   "metadata": {
    "hidden": true
   },
   "outputs": [
    {
     "name": "stdout",
     "output_type": "stream",
     "text": [
      "Working on nz_32\n",
      "Working on nz_64\n",
      "Working on nz_128\n"
     ]
    }
   ],
   "source": [
    "path  = '/ocean/projects/atm200007p/ajenney/rcemip-large/'\n",
    "cases = ['nz_32','nz_64','nz_128']\n",
    "hf    = []\n",
    "lwnt  = []\n",
    "lwns  = []\n",
    "swnt  = []\n",
    "swns  = []\n",
    "shf   = []\n",
    "lhf   = []\n",
    "for i,case in enumerate(cases):\n",
    "    print('Working on '+case)\n",
    "    hf.append(xr.open_mfdataset(np.sort(glob.glob(path+case+'/OUT_3D/FMSE/*.nc'))).fmse_vint)\n",
    "    lwnt.append(xr.open_mfdataset(np.sort(glob.glob(path+case+'/OUT_2D/LWNT/*.nc'))).LWNT)\n",
    "    lwns.append(xr.open_mfdataset(np.sort(glob.glob(path+case+'/OUT_2D/LWNS/*.nc'))).LWNS)\n",
    "    swnt.append(xr.open_mfdataset(np.sort(glob.glob(path+case+'/OUT_2D/SWNT/*.nc'))).SWNT)\n",
    "    swns.append(xr.open_mfdataset(np.sort(glob.glob(path+case+'/OUT_2D/SWNS/*.nc'))).SWNS)\n",
    "    shf.append(xr.open_mfdataset(np.sort(glob.glob(path+case+'/OUT_2D/SHF/*.nc'))).SHF)\n",
    "    lhf.append(xr.open_mfdataset(np.sort(glob.glob(path+case+'/OUT_2D/LHF/*.nc'))).LHF)"
   ]
  },
  {
   "cell_type": "markdown",
   "id": "e8e080b2",
   "metadata": {
    "heading_collapsed": true
   },
   "source": [
    "## Calculate Eq. 3 $\\langle h_f \\rangle'^2$ Budget Terms"
   ]
  },
  {
   "cell_type": "markdown",
   "id": "add78635",
   "metadata": {
    "hidden": true
   },
   "source": [
    "We calculate the longwave convergence ($LW$), shortwave convergence ($SW$), and surface enthalpy flux ($SEF$) from the above variables, and calculate daily averages of each (including $h_f$)."
   ]
  },
  {
   "cell_type": "code",
   "execution_count": 3,
   "id": "1f67d29c",
   "metadata": {
    "hidden": true
   },
   "outputs": [
    {
     "name": "stdout",
     "output_type": "stream",
     "text": [
      "Working on nz_32\n",
      "Working on nz_64\n",
      "Working on nz_128\n"
     ]
    }
   ],
   "source": [
    "sw  = []\n",
    "lw  = []\n",
    "sef = []\n",
    "lwdaily  = []\n",
    "swdaily  = []\n",
    "sefdaily = []\n",
    "hfdaily  = []\n",
    "for i,case in enumerate(cases):\n",
    "    print('Working on '+case)\n",
    "    ## Calculate LW, SW, and SEF\n",
    "    lw.append(lwns[i]-lwnt[i])\n",
    "    sw.append(swnt[i]-swns[i])\n",
    "    sef.append(lhf[i]+shf[i])\n",
    "    ## Compute Daily Means of LW, SW, SEF, and FMSE\n",
    "    lwdaily.append(lw[i].groupby(np.floor(lw[i].time)).mean('time').load())\n",
    "    swdaily.append(sw[i].groupby(np.floor(sw[i].time)).mean('time').load())\n",
    "    sefdaily.append(sef[i].groupby(np.floor(lw[i].time)).mean('time').load())\n",
    "    hfdaily.append(hf[i].groupby(np.floor(hf[i].time)).mean('time').load())"
   ]
  },
  {
   "cell_type": "markdown",
   "id": "6ae6590b",
   "metadata": {
    "hidden": true
   },
   "source": [
    "We calculate the spatial anomalies for daily-averaged variables as the deviation from the daily-averaged mean. We use $LW'$, $SW'$, $SEF'$, and $h_{f}'$), to compute the spatial means of individual terms within Eq. 3. Expanding Eq. 3 gives us,\n",
    "$$\\frac{1}{2}\\frac{\\partial \\langle h_f \\rangle'^2}{\\partial t} = \\langle h_f \\rangle' LW' + \\langle h_f \\rangle' SW' + \\langle h_f \\rangle' SEF' - \\langle h_f \\rangle' \\left(\\nabla_h \\cdot \\langle h_f\\vec{\\textbf{u}} \\rangle' \\right)$$\n",
    "Represented in the following code as ```totaltend``` = ```lwterm``` + ```swterm``` + ```sefterm``` - ```fluxconv```.\n"
   ]
  },
  {
   "cell_type": "code",
   "execution_count": 18,
   "id": "9f644f9f",
   "metadata": {
    "hidden": true,
    "scrolled": true
   },
   "outputs": [
    {
     "name": "stdout",
     "output_type": "stream",
     "text": [
      "Working on nz_32\n",
      "Working on nz_64\n",
      "Working on nz_128\n"
     ]
    }
   ],
   "source": [
    "lwanom  = []\n",
    "swanom  = []\n",
    "sefanom = []\n",
    "hfanom  = []\n",
    "lwterm  = []\n",
    "swterm  = []\n",
    "sefterm = []\n",
    "totaltend = []\n",
    "fluxconv  = []\n",
    "for i,case in enumerate(cases):\n",
    "    print('Working on '+case)\n",
    "    ## Compute Spatial Anomalies of LW, SW, SEF, and FMSE\n",
    "    lwanom.append(lwdaily[i]-(lwdaily[i].mean(dim=('x','y'))))\n",
    "    swanom.append(swdaily[i]-(swdaily[i].mean(dim=('x','y'))))\n",
    "    sefanom.append(sefdaily[i]-(sefdaily[i].mean(dim=('x','y'))))\n",
    "    hfanom.append(hfdaily[i]-(hfdaily[i].mean(dim=('x','y'))))\n",
    "    ## Calculate Individual Terms and Spatial Means\n",
    "    lwterm.append((lwanom[i]*hfanom[i]).mean(dim=('x','y'))/1e9)\n",
    "    swterm.append((swanom[i]*hfanom[i]).mean(dim=('x','y'))/1e9)\n",
    "    sefterm.append((sefanom[i]*hfanom[i]).mean(dim=('x','y'))/1e9)\n",
    "    totaltend.append((((1/2)*((hfanom[i]**2).differentiate('time'))).mean(dim=('x','y')))/86400/1e9)\n",
    "    fluxconv.append((totaltend[i]-lwterm[i]-swterm[i]-sefterm[i]))"
   ]
  },
  {
   "cell_type": "markdown",
   "id": "c9584ff0",
   "metadata": {},
   "source": [
    "## Store Budget Terms by Case Using Pickling"
   ]
  },
  {
   "cell_type": "markdown",
   "id": "0b709a5f",
   "metadata": {},
   "source": [
    "We use pickling to format and store the ```totaltend```, ```lwterm```, ```swterm```, ```sefterm```, and ```fluxconv``` terms by case for quicker plotting of Fig. 6 and Fig. 8. Note that pickling is only used for **short-term storage**. More information on pickling can be found in the Python 3.10.7 documentation [here](https://docs.python.org/3/library/pickle.html)."
   ]
  },
  {
   "cell_type": "code",
   "execution_count": null,
   "id": "12a8b522",
   "metadata": {},
   "outputs": [],
   "source": [
    "### Create Arrays of FMSE Budget Terms\n",
    "swarr = xr.DataArray(swterm,name='SW',dims=('cases','days')).assign_attrs(\n",
    "    long_name='Convergence of shortwave radiative flux between the surface and TOA',\n",
    "    units='10$^{9}$ J$^{2}$ m$^{-4}$ s$^{-1}$')\n",
    "lwarr = xr.DataArray(lwterm,name='LW',dims=('cases','days')).assign_attrs(\n",
    "    long_name='Convergence of longwave radiative flux between the surface and TOA',\n",
    "    units='10$^{9}$ J$^{2}$ m$^{-4}$ s$^{-1}$')\n",
    "sefarr = xr.DataArray(sefterm,name='SEF',dims=('cases','days')).assign_attrs(\n",
    "    long_name='Surface enthalpy (latent + sensible heat) flux',\n",
    "    units='10$^{9}$ J$^{2}$ m$^{-4}$ s$^{-1}$')\n",
    "fluxconvarr = xr.DataArray(fluxconv,name='flux_conv',dims=('cases','days')).assign_attrs(\n",
    "    long_name='Horizontal convergence of column frozen moist static energy flux',\n",
    "    units='10$^{9}$ J$^{2}$ m$^{-4}$ s$^{-1}$',\n",
    "    description='$-\\nabla_h \\cdot \\widehat{\\overrightarrow{u}h_f}$')\n",
    "totaltendarr = xr.DataArray(totaltend,name='total_tend',dims=('cases','days')).assign_attrs(\n",
    "    long_name='Total tendency of column frozen moist static energy',\n",
    "    units='10$^{9}$ J$^{2}$ m$^{-4}$ s$^{-1}$',\n",
    "    description='$(\\frac{1}{2} \\frac{\\partial \\widehat{h_f}^2}{\\partial t}))$')\n",
    "\n",
    "### Merge Arrays By Case\n",
    "nz_32_vars  = xr.merge([swarr[0],lwarr[0],sefarr[0],fluxconvarr[0],totaltendarr[0]])\n",
    "nz_64_vars  = xr.merge([swarr[1],lwarr[1],sefarr[1],fluxconvarr[1],totaltendarr[1]])\n",
    "nz_128_vars = xr.merge([swarr[2],lwarr[2],sefarr[2],fluxconvarr[2],totaltendarr[2]])\n",
    "\n",
    "### Define a Function to Pickle Arrays and Save as Files to a Desired Directory\n",
    "def picklebycase(data,filename):\n",
    "    filepath = path+'analysis/'+filename\n",
    "    outfile  = open(filepath,'wb')\n",
    "    pickle.dump(data,outfile)\n",
    "    outfile.close()\n",
    "    \n",
    "### Pickle Case Arrays\n",
    "picklebycase(nz_32_vars,'fmse_budget_vars_nz_32.pkl')\n",
    "picklebycase(nz_64_vars,'fmse_budget_vars_nz_64.pkl')\n",
    "picklebycase(nz_128_vars,'fmse_budget_vars_nz_128.pkl')"
   ]
  }
 ],
 "metadata": {
  "kernelspec": {
   "display_name": "Python 3 (ipykernel)",
   "language": "python",
   "name": "python3"
  },
  "language_info": {
   "codemirror_mode": {
    "name": "ipython",
    "version": 3
   },
   "file_extension": ".py",
   "mimetype": "text/x-python",
   "name": "python",
   "nbconvert_exporter": "python",
   "pygments_lexer": "ipython3",
   "version": "3.10.5"
  }
 },
 "nbformat": 4,
 "nbformat_minor": 5
}
