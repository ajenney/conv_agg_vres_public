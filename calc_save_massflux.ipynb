{
 "cells": [
  {
   "cell_type": "markdown",
   "id": "1fdbe302-aee7-4853-993d-b6fad5e091e5",
   "metadata": {},
   "source": [
    "# Calculate and save the upward and downward mass fluxes for each 3D file\n",
    "\n",
    "$M = \\rho w $"
   ]
  },
  {
   "cell_type": "code",
   "execution_count": 1,
   "id": "3b5d2137-9303-4c3b-a46f-2f29a24154b2",
   "metadata": {},
   "outputs": [],
   "source": [
    "import numpy as np\n",
    "import xarray as xr\n",
    "import glob\n",
    "import os\n",
    "from datetime import datetime"
   ]
  },
  {
   "cell_type": "code",
   "execution_count": 2,
   "id": "378f345c-8760-4dc7-a809-614eeaf75d8a",
   "metadata": {},
   "outputs": [],
   "source": [
    "# today's date as a string\n",
    "\n",
    "today = datetime.today().strftime('%Y-%m-%d')"
   ]
  },
  {
   "cell_type": "code",
   "execution_count": 3,
   "id": "7278a208-47ba-45b7-ae52-58d60aa073d0",
   "metadata": {},
   "outputs": [],
   "source": [
    "# pre-defined fields\n",
    "\n",
    "R = 287 # J/kg gas constant\n",
    "\n",
    "simset = 'rcemip-small' # options: 'rcemip-small' or 'rcemip-large'\n",
    "\n",
    "dirout = 'massflux'\n",
    "\n",
    "cases = ['nz_32','nz_64','nz_128','nz_256']\n",
    "\n",
    "# directory where data is located\n",
    "fpath = \n",
    "\n",
    "# author, your name\n",
    "author = \n",
    "\n",
    "# email, your email\n",
    "email = "
   ]
  },
  {
   "cell_type": "code",
   "execution_count": 4,
   "id": "35d0f80d-0588-4765-9e81-9299ef213988",
   "metadata": {},
   "outputs": [],
   "source": [
    "fpath = fpath + simset\n",
    "\n",
    "if simset == 'rcemip-small':\n",
    "    dx = 780\n",
    "    outstr1 = '_99km_300K_'\n",
    "    nxny = '_128_'\n",
    "    \n",
    "else:\n",
    "    \n",
    "    cases = cases[:2]\n",
    "    dx = 3_000\n",
    "    outstr1 = '_1536km_300K_'\n",
    "    nxny = '_512_'"
   ]
  },
  {
   "cell_type": "code",
   "execution_count": 5,
   "id": "c5dd9a23-c862-4d7e-a657-7223da765260",
   "metadata": {},
   "outputs": [],
   "source": [
    "# Loop through files and calculate one by one\n",
    "\n",
    "for icase,case in enumerate(cases):\n",
    "    \n",
    "    try:\n",
    "        os.mkdir(fpath + case + '/OUT_3D/' + dirout)\n",
    "    except:\n",
    "        print('directory already exists!')\n",
    "\n",
    "    # Load background pressure file and convert to Pa from hPa\n",
    "    p_background = xr.open_dataset(glob.glob(fpath + case +  \n",
    "                                            '/OUT_3D/p/*.nc')[0]).p * 100\n",
    "\n",
    "    # List files: need w, pressure, and temperature\n",
    "    files_w = np.sort(glob.glob(fpath + case + '/OUT_3D/W/*.nc'))\n",
    "    files_p = np.sort(glob.glob(fpath + case + '/OUT_3D/PP/*.nc'))\n",
    "    files_t = np.sort(glob.glob(fpath + case + '/OUT_3D/TABS/*.nc'))\n",
    "\n",
    "    # Loop through files\n",
    "    for ifile in range(len(files_w)):\n",
    "\n",
    "        tstr = files_w[ifile][-13:-3] # time string\n",
    "\n",
    "        # Check to see if file exists & if it does, continue\n",
    "        filename_out = (fpath + case+ '/OUT_3D/' + dirout + '/RCE_' + simset + outstr1 +\n",
    "                case + nxny + dirout + '_' + tstr + '.nc')\n",
    "\n",
    "        if os.path.exists(filename_out): \n",
    "            print('file exists! Skipping this one')\n",
    "            continue\n",
    "\n",
    "        # Open files\n",
    "        w = xr.load_dataset(files_w[ifile]).W\n",
    "        T = xr.load_dataset(files_t[ifile]).TABS\n",
    "        p = xr.load_dataset(files_p[ifile]).PP + p_background\n",
    "\n",
    "        # Calculate density = pressure/(R * T)\n",
    "        rho = p/(R*T)\n",
    "        del T\n",
    "        del p\n",
    "\n",
    "        # Calculate mass flux for each column\n",
    "        M = rho * w\n",
    "        del w\n",
    "        del rho\n",
    "\n",
    "        M.attrs['long_name'] = 'mass flux'\n",
    "        M.attrs['units'] = 'kg/m2/s'\n",
    "\n",
    "        # --------- Save to netcdf ---------\n",
    "        ds_out = xr.Dataset(data_vars=dict(M=M),\n",
    "                            attrs=dict(history='calculated on ' + today +\n",
    "                                               ' by ' + author + email))\n",
    "        ds_out.to_netcdf(filename_out)"
   ]
  }
 ],
 "metadata": {
  "kernelspec": {
   "display_name": "Python 3 (ipykernel)",
   "language": "python",
   "name": "python3"
  },
  "language_info": {
   "codemirror_mode": {
    "name": "ipython",
    "version": 3
   },
   "file_extension": ".py",
   "mimetype": "text/x-python",
   "name": "python",
   "nbconvert_exporter": "python",
   "pygments_lexer": "ipython3",
   "version": "3.10.5"
  }
 },
 "nbformat": 4,
 "nbformat_minor": 5
}
