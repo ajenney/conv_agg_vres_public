{
 "cells": [
  {
   "cell_type": "markdown",
   "id": "8a0283bc-2348-43a2-9621-7c2b09badcc4",
   "metadata": {},
   "source": [
    "# Make plots of binned-by-column-RH fields"
   ]
  },
  {
   "cell_type": "code",
   "execution_count": 1,
   "id": "17006643-c04b-4547-8767-5b479b986f07",
   "metadata": {},
   "outputs": [],
   "source": [
    "import xarray as xr\n",
    "import glob\n",
    "import numpy as np\n",
    "import proplot as pplt\n",
    "%config InlineBackend.figure_format = 'retina'\n",
    "pplt.rc.update({'font.size':12})\n",
    "import warnings\n",
    "warnings.filterwarnings('ignore')"
   ]
  },
  {
   "cell_type": "code",
   "execution_count": 2,
   "id": "97955e18-a71b-4783-b184-7dabcd1d3171",
   "metadata": {},
   "outputs": [],
   "source": [
    "# where are files located\n",
    "fpath = \n",
    "\n",
    "cases = ['nz_32','nz_64','nz_128']\n",
    "\n",
    "# where to save files\n",
    "figdir = '/jet/home/ajenney/repos/conv_agg_vres/figs/'"
   ]
  },
  {
   "cell_type": "code",
   "execution_count": 4,
   "id": "b8968d99-9d4c-46a2-956e-1727e9a4f5a9",
   "metadata": {},
   "outputs": [],
   "source": [
    "# Add files to dslist manually because of weird timeframe dimension\n",
    "# and multiple files for nz_128\n",
    "\n",
    "dslist = []\n",
    "\n",
    "for case in cases:\n",
    "    dslist.append(xr.open_dataset(glob.glob(fpath + 'crh_binned_vars_nz_' + \n",
    "                                            case + '_figure_timeframes.nc')[0],\n",
    "                                  decode_cf=False))"
   ]
  },
  {
   "cell_type": "code",
   "execution_count": 6,
   "id": "1e18642b-6d95-4e51-a15a-776b65900120",
   "metadata": {},
   "outputs": [
    {
     "data": {
      "text/plain": [
       "array(['000-025', '025-050', '100-125'], dtype=object)"
      ]
     },
     "execution_count": 6,
     "metadata": {},
     "output_type": "execute_result"
    }
   ],
   "source": [
    "# Read in some variables\n",
    "timeframes = dslist[0].timeframe.values\n",
    "bincenter = dslist[0].percentile_center.values\n",
    "\n",
    "# Reformat timeframes string so its formatted with leading zeros\n",
    "for ii,timeframe in enumerate(timeframes):\n",
    "    # Find the index of the dash\n",
    "    idash = timeframe.index('-')\n",
    "    start = int(timeframe[:idash])\n",
    "    stop = int(timeframe[idash+1:])\n",
    "    \n",
    "    timeframes[ii] = '{:03d}'.format(start) + '-{:03d}'.format(stop)\n",
    "    \n",
    "timeframes"
   ]
  },
  {
   "cell_type": "code",
   "execution_count": 7,
   "id": "7508b1ef-7377-4683-bcf9-904cffb04449",
   "metadata": {},
   "outputs": [],
   "source": [
    "# Plot one timeframe at a time\n",
    "\n",
    "# Plot specifications\n",
    "top='RdBu_r'; bottom='Cubehelix'\n",
    "qnlevels=[0.003,0.006,0.009,0.012]\n",
    "dpsi = 0.0010\n",
    "psilevels = np.arange(-0.0110, 0.0110+dpsi, dpsi)\n",
    "\n",
    "for itime,timeframe in enumerate(timeframes):\n",
    "\n",
    "    fig,axs = pplt.subplots(ncols=3,nrows=2,refwidth=2,refheight=3)\n",
    "\n",
    "    axs.format(xlabel='Column relative humidity percentile',xlim=(0,100),\n",
    "               xticks=25,ylabel='z (km)',ylim=(0,13),\n",
    "               abc='a',abcloc='l',suptitle='Days '+ timeframe)\n",
    "\n",
    "    for icase,case in enumerate(cases):\n",
    "        # Top row\n",
    "        qradplots = axs[icase].contourf(\n",
    "                    bincenter,\n",
    "                    dslist[icase].z/1000,\n",
    "                    np.transpose(dslist[icase].Qr.isel(timeframe=itime).values),\n",
    "                    cmap=top,levels=20,\n",
    "                    vmin=-1.5,vmax=1.5,extend='both')\n",
    "        axs[icase].contour(bincenter,dslist[icase].z/1000,\n",
    "                           np.transpose(dslist[icase].psi.isel(timeframe=itime).values),\n",
    "                           color='k',linewidth=0.8,levels=psilevels)\n",
    "        axs[icase].contour(bincenter,dslist[icase].z/1000,\n",
    "                       np.transpose(dslist[icase].qn.isel(timeframe=itime).values),\n",
    "                       color='w',levels=qnlevels,linewidth=0.8)\n",
    "        axs[icase].format(titleloc='l',title=case+', $Q_{R}$') \n",
    "\n",
    "        # Bottom row\n",
    "        fmseplots = axs[icase+3].contourf(\n",
    "                    bincenter,\n",
    "                    dslist[icase].z/1000,\n",
    "                    np.transpose(dslist[icase].fmse.isel(timeframe=itime).values)/1000,\n",
    "                    cmap=bottom,levels=21,\n",
    "                    vmin=315,vmax=335,extend='both')\n",
    "        axs[icase+3].contour(bincenter,dslist[icase].z/1000,\n",
    "                           np.transpose(dslist[icase].psi.isel(timeframe=itime).values),\n",
    "                           color='k',linewidth=0.8,levels=psilevels)\n",
    "        axs[icase+3].contour(bincenter,dslist[icase].z/1000,\n",
    "                       np.transpose(dslist[icase].qn.isel(timeframe=itime).values),\n",
    "                       color='w',levels=qnlevels,linewidth=0.8)\n",
    "        axs[icase+3].format(titleloc='l',\n",
    "                        title=case+ r', $\\langle h_{\\mathrm{f}} \\rangle$')\n",
    "\n",
    "    # Colorbars\n",
    "    axs[2].colorbar(qradplots,loc='r',label='Radiative heating rate (K day$^{-1}$)')\n",
    "    axs[5].colorbar(fmseplots,loc='r',label='Frozen moist static energy (kJ m$^{-2}$)')\n",
    "\n",
    "    fig.savefig(figdir + 'by_crh_d' + timeframe + '.png', dpi=300)\n",
    "    pplt.close('all')"
   ]
  }
 ],
 "metadata": {
  "kernelspec": {
   "display_name": "Python 3 (ipykernel)",
   "language": "python",
   "name": "python3"
  },
  "language_info": {
   "codemirror_mode": {
    "name": "ipython",
    "version": 3
   },
   "file_extension": ".py",
   "mimetype": "text/x-python",
   "name": "python",
   "nbconvert_exporter": "python",
   "pygments_lexer": "ipython3",
   "version": "3.10.5"
  }
 },
 "nbformat": 4,
 "nbformat_minor": 5
}
