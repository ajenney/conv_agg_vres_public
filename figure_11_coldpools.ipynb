{
 "cells": [
  {
   "cell_type": "markdown",
   "id": "4f1d3994-5083-4ac9-9492-7b24c02b956f",
   "metadata": {},
   "source": [
    "# Calculate and plot the distribution of \"cold pools\""
   ]
  },
  {
   "cell_type": "code",
   "execution_count": 1,
   "id": "29dbb8ee-003b-4ca9-ade4-2d98b90a4971",
   "metadata": {},
   "outputs": [],
   "source": [
    "import xarray as xr\n",
    "import proplot as plot\n",
    "import numpy as np\n",
    "import glob"
   ]
  },
  {
   "cell_type": "code",
   "execution_count": 2,
   "id": "54a92c0b-9aac-46e3-967b-811f3019ea5e",
   "metadata": {},
   "outputs": [],
   "source": [
    "# exp = 'rcemip-small_v2'\n",
    "exp = 'rcemip-large'\n",
    "\n",
    "# cases = ['nz_32','nz_64','nz_128','nz_256']\n",
    "cases = ['nz_32','nz_64','nz_128']\n",
    "\n",
    "fromday = 0\n",
    "to_day = 30\n",
    "\n",
    "# where are files located\n",
    "fpath = \n",
    "\n",
    "# colormap\n",
    "cmap =  np.asarray([\n",
    "                        [211, 62, 67, 255],\n",
    "                        [248, 196, 98, 255],\n",
    "                        [152, 193, 217, 255],\n",
    "                        [64, 72, 119, 255]])/255\n",
    "\n",
    "# where to save figure\n",
    "figdir = "
   ]
  },
  {
   "cell_type": "code",
   "execution_count": 3,
   "id": "a8a171b4-cf48-4d1e-a5a8-5362918fc12e",
   "metadata": {},
   "outputs": [
    {
     "name": "stdout",
     "output_type": "stream",
     "text": [
      "nz_32\n",
      "T loaded\n",
      "q loaded\n",
      "Tv loaded\n",
      "nz_64\n",
      "T loaded\n",
      "q loaded\n",
      "Tv loaded\n",
      "nz_128\n",
      "T loaded\n",
      "q loaded\n",
      "Tv loaded\n"
     ]
    }
   ],
   "source": [
    "# Load data and calculate virtual temperature for lowest model level\n",
    "# Tv = T(1 + rv/ ε)/(1 + rv)\n",
    "epsilon = 0.622\n",
    "\n",
    "Tv = []\n",
    "\n",
    "for case in cases:\n",
    "    print(case)\n",
    "    files = np.sort(glob.glob(fpath + case + '/OUT_3D/TABS/*.nc'))\n",
    "    T = xr.open_mfdataset(files).isel(z=0).TABS.sel(time=slice(fromday,to_day))\n",
    "    print('T loaded')\n",
    "    \n",
    "    files = np.sort(glob.glob(fpath + case + '/OUT_3D/QV/*.nc'))\n",
    "    rv = xr.open_mfdataset(files).isel(z=0).QV.sel(time=slice(fromday,to_day)) / 1e3 # convert to kg/kg\n",
    "    print('q loaded')\n",
    "    \n",
    "    Tv.append((T * (1 + (rv / epsilon)) / (1 + rv)).load())\n",
    "    print('Tv loaded')\n",
    "    \n",
    "    del T\n",
    "    del rv"
   ]
  },
  {
   "cell_type": "code",
   "execution_count": null,
   "id": "a1b5a236-0d4e-43b4-8b81-2c95ba2e9a6f",
   "metadata": {},
   "outputs": [],
   "source": [
    "# At each time step, calculate the virtual temperature anomaly from the domain mean\n",
    "\n",
    "Tv_anom = []\n",
    "\n",
    "for icase in range(len(cases)):\n",
    "    Tv_mean = Tv[icase].mean(dim=('x','y'))\n",
    "    Tv_anom.append(Tv[icase] - Tv_mean)\n",
    "    \n",
    "del Tv"
   ]
  },
  {
   "cell_type": "code",
   "execution_count": null,
   "id": "3622cf82-a9c9-498f-acfc-9dfc8c0e005a",
   "metadata": {},
   "outputs": [],
   "source": [
    "# Calculate the distribution of virtual temperature anomlies \n",
    "\n",
    "bins = np.linspace(-5,0,num=50)\n",
    "bincenter = bins[:-1] + np.diff(bins)[0]/2\n",
    "\n",
    "Tv_hist = []\n",
    "\n",
    "for icase in range(len(cases)):\n",
    "    hist,_ = np.histogram(np.ravel(Tv_anom[icase].values), bins)\n",
    "    Tv_hist.append(hist)"
   ]
  },
  {
   "cell_type": "code",
   "execution_count": null,
   "id": "5481f316-3d5e-4534-b031-e84fa4089b5a",
   "metadata": {},
   "outputs": [],
   "source": [
    "fig, ax = plot.subplots()\n",
    "\n",
    "for icase,case in enumerate(cases):\n",
    "    ax.plot(bincenter, Tv_hist[icase]/sum(Tv_hist[icase]),\n",
    "            color=cmap[icase],label=case)\n",
    "    \n",
    "ax.format(yscale='log',ylabel='Frequency',\n",
    "          xlabel='Virtual Temperature Anomaly (K)',\n",
    "          xlim=(-5,0))\n",
    "ax.legend(ncol=1)\n",
    "fig.savefig(figdir + exp + '_Tv_anom_distr_d' + str(fromday) + '-' + str(to_day) + '.png',dpi=300)"
   ]
  }
 ],
 "metadata": {
  "kernelspec": {
   "display_name": "Python 3 (ipykernel)",
   "language": "python",
   "name": "python3"
  },
  "language_info": {
   "codemirror_mode": {
    "name": "ipython",
    "version": 3
   },
   "file_extension": ".py",
   "mimetype": "text/x-python",
   "name": "python",
   "nbconvert_exporter": "python",
   "pygments_lexer": "ipython3",
   "version": "3.10.5"
  }
 },
 "nbformat": 4,
 "nbformat_minor": 5
}
